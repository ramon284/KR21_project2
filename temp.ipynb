{
 "cells": [
  {
   "cell_type": "code",
   "execution_count": 1,
   "id": "56041a15",
   "metadata": {},
   "outputs": [],
   "source": [
    "from BayesNet import BayesNet"
   ]
  },
  {
   "cell_type": "code",
   "execution_count": 2,
   "id": "548ed43d",
   "metadata": {},
   "outputs": [],
   "source": [
    "bn = BayesNet()\n",
    "bn.load_from_bifxml(str('testing/dog_problem.BIFXML'))"
   ]
  },
  {
   "cell_type": "code",
   "execution_count": 3,
   "id": "18ea1e43",
   "metadata": {},
   "outputs": [],
   "source": [
    "var = bn.get_all_variables()"
   ]
  },
  {
   "cell_type": "code",
   "execution_count": 4,
   "id": "f73e63c9",
   "metadata": {},
   "outputs": [],
   "source": [
    "inter_graph = bn.get_interaction_graph()"
   ]
  },
  {
   "cell_type": "code",
   "execution_count": 5,
   "id": "5e983f35",
   "metadata": {},
   "outputs": [
    {
     "name": "stdout",
     "output_type": "stream",
     "text": [
      "Graph with 5 nodes and 5 edges\n"
     ]
    }
   ],
   "source": [
    "print(inter_graph)"
   ]
  },
  {
   "cell_type": "code",
   "execution_count": 6,
   "id": "4196647e",
   "metadata": {},
   "outputs": [
    {
     "name": "stdout",
     "output_type": "stream",
     "text": [
      "3\n"
     ]
    }
   ],
   "source": [
    "print(len(list(inter_graph.neighbors('dog-out'))))"
   ]
  },
  {
   "cell_type": "code",
   "execution_count": 7,
   "id": "d5365a2b",
   "metadata": {},
   "outputs": [
    {
     "data": {
      "text/plain": [
       "networkx.classes.graph.Graph"
      ]
     },
     "execution_count": 7,
     "metadata": {},
     "output_type": "execute_result"
    }
   ],
   "source": [
    "type(inter_graph)"
   ]
  },
  {
   "cell_type": "code",
   "execution_count": 8,
   "id": "88fa63ad",
   "metadata": {},
   "outputs": [
    {
     "name": "stdout",
     "output_type": "stream",
     "text": [
      "['light-on', 'bowel-problem', 'dog-out', 'hear-bark', 'family-out']\n"
     ]
    }
   ],
   "source": [
    "print(inter_graph.nodes)"
   ]
  },
  {
   "cell_type": "code",
   "execution_count": 9,
   "id": "4b0822c1",
   "metadata": {},
   "outputs": [],
   "source": [
    "from BayesNet import BayesNet\n",
    "from networkx import Graph\n",
    "\n",
    "def sort_min_edges(graph:Graph, node_list:list) -> list:\n",
    "    node_neighbour = {}\n",
    "    for node in node_list:\n",
    "        node_neighbour[node] = len(list(graph.neighbors(node)))\n",
    "\n",
    "    print(node_neighbour) #prototyping\n",
    "    sorted_node_dict = dict(sorted(node_neighbour.items() ,key = lambda item:item[1]))\n",
    "    print(sorted_node_dict) #prototyping\n",
    "    sorted_node_list = list(sorted_node_dict.keys()) \n",
    "    return sorted_node_list"
   ]
  },
  {
   "cell_type": "code",
   "execution_count": 10,
   "id": "bdb75785",
   "metadata": {},
   "outputs": [
    {
     "name": "stdout",
     "output_type": "stream",
     "text": [
      "{'light-on': 1, 'bowel-problem': 2, 'dog-out': 3, 'hear-bark': 1, 'family-out': 3}\n",
      "{'light-on': 1, 'hear-bark': 1, 'bowel-problem': 2, 'dog-out': 3, 'family-out': 3}\n"
     ]
    },
    {
     "data": {
      "text/plain": [
       "['light-on', 'hear-bark', 'bowel-problem', 'dog-out', 'family-out']"
      ]
     },
     "execution_count": 10,
     "metadata": {},
     "output_type": "execute_result"
    }
   ],
   "source": [
    "sort_min_edges(inter_graph,['light-on', 'bowel-problem', 'dog-out', 'hear-bark', 'family-out'])"
   ]
  },
  {
   "cell_type": "code",
   "execution_count": 11,
   "id": "b2791aa3",
   "metadata": {},
   "outputs": [
    {
     "name": "stdout",
     "output_type": "stream",
     "text": [
      "1\n",
      "2\n",
      "3\n",
      "1\n",
      "3\n"
     ]
    }
   ],
   "source": [
    "print(len(list(inter_graph.neighbors('light-on'))))\n",
    "print(len(list(inter_graph.neighbors('bowel-problem'))))\n",
    "print(len(list(inter_graph.neighbors('dog-out'))))\n",
    "print(len(list(inter_graph.neighbors('hear-bark'))))\n",
    "print(len(list(inter_graph.neighbors('family-out'))))"
   ]
  },
  {
   "cell_type": "code",
   "execution_count": 12,
   "id": "a7333fde",
   "metadata": {},
   "outputs": [],
   "source": [
    "import itertools\n",
    "\n",
    "def sort_min_fill(graph:Graph, node_list:list) -> list:\n",
    "\tunsorted_ne_dict = {}\n",
    "\tfor node in node_list:\n",
    "\t\tneighbours = list(graph.neighbors(node))\n",
    "\t\tcombi_n = itertools.combinations(neighbours,2)\n",
    "\t\tnew_edges=0\n",
    "\t\tfor combi in combi_n:\n",
    "\t\t\tif(not(combi in graph.edges)):\n",
    "\t\t\t\tnew_edges+=1\n",
    "\t\tunsorted_ne_dict[node] = new_edges\n",
    "\n",
    "\tsorted_node_dict = dict(sorted(unsorted_ne_dict.items() ,key = lambda item:item[1]))\n",
    "\tsorted_node_list = list(sorted_node_dict.keys()) \n",
    "\treturn sorted_node_list"
   ]
  },
  {
   "cell_type": "code",
   "execution_count": 13,
   "id": "2c31bc32",
   "metadata": {},
   "outputs": [
    {
     "data": {
      "text/plain": [
       "['light-on', 'bowel-problem', 'hear-bark', 'dog-out', 'family-out']"
      ]
     },
     "execution_count": 13,
     "metadata": {},
     "output_type": "execute_result"
    }
   ],
   "source": [
    "sort_min_fill(inter_graph,['light-on', 'bowel-problem', 'dog-out', 'hear-bark', 'family-out'])"
   ]
  },
  {
   "cell_type": "code",
   "execution_count": 14,
   "id": "7cccade8",
   "metadata": {},
   "outputs": [],
   "source": [
    "import random\n",
    "\n",
    "def random_sort(node_list:list) -> list:\n",
    "\treturn random.sample(node_list, len(node_list))"
   ]
  },
  {
   "cell_type": "code",
   "execution_count": 15,
   "id": "1941aa8e",
   "metadata": {},
   "outputs": [
    {
     "name": "stdout",
     "output_type": "stream",
     "text": [
      "['dog-out', 'hear-bark', 'light-on', 'bowel-problem', 'family-out']\n"
     ]
    }
   ],
   "source": [
    "print(random_sort(['light-on', 'bowel-problem', 'dog-out', 'hear-bark', 'family-out']))"
   ]
  },
  {
   "cell_type": "code",
   "execution_count": 16,
   "id": "afc84e60",
   "metadata": {},
   "outputs": [
    {
     "name": "stdout",
     "output_type": "stream",
     "text": [
      "['family-out', 'bowel-problem', 'hear-bark']\n",
      "['family-out', 'bowel-problem', 'hear-bark']\n"
     ]
    }
   ],
   "source": [
    "print(list(inter_graph['dog-out']))\n",
    "print(list(inter_graph.neighbors('dog-out')))"
   ]
  },
  {
   "cell_type": "code",
   "execution_count": 17,
   "id": "fab1f21a",
   "metadata": {},
   "outputs": [],
   "source": [
    "empty = dict()"
   ]
  },
  {
   "cell_type": "code",
   "execution_count": 18,
   "id": "893aa672",
   "metadata": {},
   "outputs": [
    {
     "name": "stdout",
     "output_type": "stream",
     "text": [
      "False\n"
     ]
    }
   ],
   "source": [
    "if(empty):\n",
    "    print(True)\n",
    "else:\n",
    "    print(False)"
   ]
  },
  {
   "cell_type": "code",
   "execution_count": 19,
   "id": "364e369a",
   "metadata": {},
   "outputs": [],
   "source": [
    "variable = 'dog-out'\n",
    "random_cpt = bn.get_cpt(variable)"
   ]
  },
  {
   "cell_type": "code",
   "execution_count": 20,
   "id": "75364903",
   "metadata": {},
   "outputs": [
    {
     "name": "stdout",
     "output_type": "stream",
     "text": [
      "[('bowel-problem', 'dog-out'), ('dog-out', 'hear-bark'), ('family-out', 'light-on'), ('family-out', 'dog-out')]\n",
      "PASSED\n"
     ]
    }
   ],
   "source": [
    "print(bn.structure.edges)\n",
    "if ('bowel-problem','dog-out') in bn.structure.edges:\n",
    "    print('PASSED')"
   ]
  },
  {
   "cell_type": "code",
   "execution_count": 44,
   "id": "f8ebb4a0",
   "metadata": {},
   "outputs": [
    {
     "name": "stdout",
     "output_type": "stream",
     "text": [
      "{'bowel-problem': False}\n"
     ]
    }
   ],
   "source": [
    "import map_mpe\n",
    "\n",
    "max_out_variables = ['bowel-problem','family-out']\n",
    "cpt_dict,z_dict = map_mpe.map(bn,{'bowel-problem'},{'dog-out':True,'hear-bark':True})\n",
    "print(z_dict)"
   ]
  },
  {
   "cell_type": "code",
   "execution_count": 22,
   "id": "1aeac307",
   "metadata": {},
   "outputs": [
    {
     "name": "stdout",
     "output_type": "stream",
     "text": [
      "   family-out  bowel-problem  dog-out     p\n",
      "0       False          False    False  0.99\n",
      "1       False          False     True  0.01\n",
      "2       False           True    False  0.97\n",
      "3       False           True     True  0.03\n",
      "4        True          False    False  0.90\n",
      "5        True          False     True  0.10\n",
      "6        True           True    False  0.30\n",
      "7        True           True     True  0.70\n"
     ]
    }
   ],
   "source": [
    "print(random_cpt)"
   ]
  },
  {
   "cell_type": "code",
   "execution_count": 23,
   "id": "e057915a",
   "metadata": {},
   "outputs": [
    {
     "data": {
      "text/plain": [
       "0    False\n",
       "1     True\n",
       "2    False\n",
       "3     True\n",
       "4    False\n",
       "5     True\n",
       "6    False\n",
       "7     True\n",
       "Name: dog-out, dtype: bool"
      ]
     },
     "execution_count": 23,
     "metadata": {},
     "output_type": "execute_result"
    }
   ],
   "source": [
    "random_cpt[variable]"
   ]
  },
  {
   "cell_type": "code",
   "execution_count": 24,
   "id": "be125fde",
   "metadata": {},
   "outputs": [],
   "source": [
    "mask1 = random_cpt[variable] == True\n",
    "mask2 = random_cpt[variable] #== True"
   ]
  },
  {
   "cell_type": "code",
   "execution_count": 25,
   "id": "7ae1c0d5",
   "metadata": {},
   "outputs": [
    {
     "name": "stdout",
     "output_type": "stream",
     "text": [
      "0    False\n",
      "1     True\n",
      "2    False\n",
      "3     True\n",
      "4    False\n",
      "5     True\n",
      "6    False\n",
      "7     True\n",
      "Name: dog-out, dtype: bool\n",
      "0    False\n",
      "1     True\n",
      "2    False\n",
      "3     True\n",
      "4    False\n",
      "5     True\n",
      "6    False\n",
      "7     True\n",
      "Name: dog-out, dtype: bool\n"
     ]
    }
   ],
   "source": [
    "print(mask1)\n",
    "print(mask2)"
   ]
  },
  {
   "cell_type": "code",
   "execution_count": 26,
   "id": "b13d5bc2",
   "metadata": {},
   "outputs": [
    {
     "name": "stdout",
     "output_type": "stream",
     "text": [
      "   family-out  bowel-problem     p\n",
      "1       False          False  0.01\n",
      "3       False           True  0.03\n",
      "5        True          False  0.10\n",
      "7        True           True  0.70\n",
      "   family-out  bowel-problem     p\n",
      "1       False          False  0.01\n",
      "3       False           True  0.03\n",
      "5        True          False  0.10\n",
      "7        True           True  0.70\n"
     ]
    }
   ],
   "source": [
    "var_true_df = random_cpt[mask1].drop(variable, axis=1)\n",
    "var_true_df2 = random_cpt[mask2].drop(variable, axis=1)\n",
    "print(var_true_df)\n",
    "print(var_true_df2)"
   ]
  },
  {
   "cell_type": "code",
   "execution_count": 27,
   "id": "d83a40c6",
   "metadata": {},
   "outputs": [
    {
     "name": "stdout",
     "output_type": "stream",
     "text": [
      "   family-out  bowel-problem     p\n",
      "0       False          False  0.99\n",
      "2       False           True  0.97\n",
      "4        True          False  0.90\n",
      "6        True           True  0.30\n",
      "   family-out  bowel-problem     p\n",
      "0       False          False  0.99\n",
      "2       False           True  0.97\n",
      "4        True          False  0.90\n",
      "6        True           True  0.30\n",
      "   family-out  bowel-problem  dog-out     p\n",
      "0       False          False    False  0.99\n",
      "1       False          False     True  0.01\n",
      "2       False           True    False  0.97\n",
      "3       False           True     True  0.03\n",
      "4        True          False    False  0.90\n",
      "5        True          False     True  0.10\n",
      "6        True           True    False  0.30\n",
      "7        True           True     True  0.70\n"
     ]
    }
   ],
   "source": [
    "var_false_df = random_cpt[~mask1].drop(variable, axis=1)\n",
    "var_false_df2 = random_cpt[~mask2].drop(variable, axis=1)\n",
    "print(var_false_df)\n",
    "print(var_false_df2)\n",
    "print(random_cpt)"
   ]
  },
  {
   "cell_type": "code",
   "execution_count": 28,
   "id": "0d6a2c95",
   "metadata": {},
   "outputs": [],
   "source": [
    "import pandas as pd\n",
    "import copy\n",
    "\n",
    "def summing_var(cpt: pd.DataFrame, var: str) -> pd.DataFrame:\n",
    "\n",
    "\tcpt_copy = copy.deepcopy(cpt)\n",
    "\tvar_mask = cpt_copy[var]\n",
    "\n",
    "\ttrue_rows = cpt_copy[var_mask].drop(var, axis=1)\n",
    "\tfalse_rows = cpt_copy[~var_mask].drop(var,axis=1)\n",
    "\n",
    "\tcols=[]\n",
    "\n",
    "\tfor col in true_rows.columns:\n",
    "\t\tif col != 'p':\n",
    "\t\t\tcols.append(col)\n",
    "\n",
    "\tsummed_cpt = pd.concat([true_rows, false_rows]).groupby(cols, as_index=False)[\"p\"].sum()\n",
    "\treturn summed_cpt"
   ]
  },
  {
   "cell_type": "code",
   "execution_count": 29,
   "id": "5485ccc1",
   "metadata": {},
   "outputs": [],
   "source": [
    "temp = summing_var(random_cpt, variable)"
   ]
  },
  {
   "cell_type": "code",
   "execution_count": 30,
   "id": "b9938b25",
   "metadata": {},
   "outputs": [
    {
     "name": "stdout",
     "output_type": "stream",
     "text": [
      "   family-out  bowel-problem    p\n",
      "0       False          False  1.0\n",
      "1       False           True  1.0\n",
      "2        True          False  1.0\n",
      "3        True           True  1.0\n"
     ]
    }
   ],
   "source": [
    "print(temp)"
   ]
  },
  {
   "cell_type": "code",
   "execution_count": 31,
   "id": "5d2308ca",
   "metadata": {},
   "outputs": [],
   "source": [
    "def multiply_cpt(cpt1: pd.DataFrame, cpt2: pd.DataFrame) -> pd.DataFrame:\n",
    "\n",
    "\tcpt1_copy = copy.deepcopy(cpt1)\n",
    "\tcpt2_copy = copy.deepcopy(cpt2)\n",
    "\n",
    "\tcol1 = []\n",
    "\tfor col in cpt1_copy.columns:\n",
    "\t\tif col != 'p':\n",
    "\t\t\tcol1.append(col)\n",
    "\n",
    "\tcol2 = []\n",
    "\tfor col in cpt2_copy.columns:\n",
    "\t\tif col != 'p':\n",
    "\t\t\tcol2.append(col)\n",
    "\n",
    "\tcommon_vars = []\n",
    "\n",
    "\tif len(col1)>len(col2):\n",
    "\t\tfor col in col2:\n",
    "\t\t\tif col in col1:\n",
    "\t\t\t\tcommon_vars.append(col)\n",
    "\telse:\n",
    "\t\tfor col in col1:\n",
    "\t\t\tif col in col2:\n",
    "\t\t\t\tcommon_vars.append(col)\n",
    "\n",
    "\tmerged_cpts = pd.merge(cpt1_copy, cpt2_copy, on=common_vars)\n",
    "\tmerged_cpts['p'] = merged_cpts['p_x'] * merged_cpts['p_y']\n",
    "\tmerged_cpts.drop(['p_x', 'p_y'], inplace=True, axis=1)\n",
    "\n",
    "\treturn merged_cpts"
   ]
  },
  {
   "cell_type": "code",
   "execution_count": 32,
   "id": "af8a9d03",
   "metadata": {},
   "outputs": [],
   "source": [
    "variable2 = 'family-out'\n",
    "random_cpt2 = bn.get_cpt(variable2)"
   ]
  },
  {
   "cell_type": "code",
   "execution_count": 33,
   "id": "e3e28e28",
   "metadata": {},
   "outputs": [],
   "source": [
    "temp2 = multiply_cpt(random_cpt, random_cpt2)"
   ]
  },
  {
   "cell_type": "code",
   "execution_count": 34,
   "id": "ead8626a",
   "metadata": {},
   "outputs": [
    {
     "name": "stdout",
     "output_type": "stream",
     "text": [
      "   family-out  bowel-problem  dog-out       p\n",
      "0       False          False    False  0.1485\n",
      "1       False          False     True  0.0015\n",
      "2       False           True    False  0.1455\n",
      "3       False           True     True  0.0045\n",
      "4        True          False    False  0.7650\n",
      "5        True          False     True  0.0850\n",
      "6        True           True    False  0.2550\n",
      "7        True           True     True  0.5950\n"
     ]
    }
   ],
   "source": [
    "print(temp2)"
   ]
  },
  {
   "cell_type": "code",
   "execution_count": 35,
   "id": "a26f0a18",
   "metadata": {},
   "outputs": [],
   "source": [
    "empty_dict = {'hello':[]}"
   ]
  },
  {
   "cell_type": "code",
   "execution_count": 36,
   "id": "ecb87f1c",
   "metadata": {},
   "outputs": [],
   "source": [
    "empty_dict['hello'].append('hellodata1')"
   ]
  },
  {
   "cell_type": "code",
   "execution_count": 37,
   "id": "e1888363",
   "metadata": {},
   "outputs": [],
   "source": [
    "empty_dict['hello'].append('hellodata2')"
   ]
  },
  {
   "cell_type": "code",
   "execution_count": 38,
   "id": "dcd5e0ca",
   "metadata": {},
   "outputs": [
    {
     "name": "stdout",
     "output_type": "stream",
     "text": [
      "['hellodata1', 'hellodata2']\n"
     ]
    }
   ],
   "source": [
    "print(empty_dict['hello'])"
   ]
  },
  {
   "cell_type": "code",
   "execution_count": 39,
   "id": "5bb2dd93",
   "metadata": {},
   "outputs": [
    {
     "data": {
      "text/plain": [
       "1"
      ]
     },
     "execution_count": 39,
     "metadata": {},
     "output_type": "execute_result"
    }
   ],
   "source": [
    "len(empty_dict)"
   ]
  },
  {
   "cell_type": "code",
   "execution_count": 40,
   "id": "878035d8",
   "metadata": {},
   "outputs": [],
   "source": [
    "import marginal_distribution"
   ]
  },
  {
   "cell_type": "code",
   "execution_count": 41,
   "id": "384b3fd9",
   "metadata": {
    "scrolled": false
   },
   "outputs": [],
   "source": [
    "bn_copy = copy.deepcopy(bn)\n",
    "temp = marginal_distribution.marginal_distribution(bn_copy,{'dog-out'},{'family-out':True},'min-degree')"
   ]
  },
  {
   "cell_type": "code",
   "execution_count": 42,
   "id": "627c2ef8",
   "metadata": {},
   "outputs": [
    {
     "name": "stdout",
     "output_type": "stream",
     "text": [
      "   dog-out      p\n",
      "0    False  0.306\n",
      "1     True  0.694\n"
     ]
    }
   ],
   "source": [
    "print(temp)"
   ]
  },
  {
   "cell_type": "code",
   "execution_count": null,
   "id": "81f51ee7",
   "metadata": {},
   "outputs": [],
   "source": []
  }
 ],
 "metadata": {
  "kernelspec": {
   "display_name": "Python 3 (ipykernel)",
   "language": "python",
   "name": "python3"
  },
  "language_info": {
   "codemirror_mode": {
    "name": "ipython",
    "version": 3
   },
   "file_extension": ".py",
   "mimetype": "text/x-python",
   "name": "python",
   "nbconvert_exporter": "python",
   "pygments_lexer": "ipython3",
   "version": "3.8.10"
  }
 },
 "nbformat": 4,
 "nbformat_minor": 5
}
