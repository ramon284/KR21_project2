{
 "cells": [
  {
   "cell_type": "code",
   "execution_count": 1,
   "id": "cb894e47",
   "metadata": {},
   "outputs": [],
   "source": [
    "from BNReasoner import BNReasoner"
   ]
  },
  {
   "cell_type": "code",
   "execution_count": 2,
   "id": "10fdce35",
   "metadata": {},
   "outputs": [],
   "source": [
    "BR = BNReasoner('testing/Lung Cancer.bifxml')"
   ]
  },
  {
   "cell_type": "code",
   "execution_count": 3,
   "id": "063f1972",
   "metadata": {},
   "outputs": [],
   "source": [
    "all_vars = BR.bn.get_all_variables()"
   ]
  },
  {
   "cell_type": "code",
   "execution_count": 4,
   "id": "a881cc9d",
   "metadata": {},
   "outputs": [
    {
     "name": "stdout",
     "output_type": "stream",
     "text": [
      "['Allergy', 'Lung Cancer', 'Stress', 'Smoking', 'Genetics', 'Yellow Fingers', 'Cough', 'Fatigue', 'Car Accident', 'Attention Disorder']\n"
     ]
    }
   ],
   "source": [
    "print(all_vars)"
   ]
  },
  {
   "cell_type": "code",
   "execution_count": 5,
   "id": "03a37f45",
   "metadata": {},
   "outputs": [
    {
     "name": "stdout",
     "output_type": "stream",
     "text": [
      "False, not d-seperated by :  {'Genetics'}\n"
     ]
    }
   ],
   "source": [
    "dsep_test = BR.dSeperator(BR.bn,{'Stress','Smoking'},{'Genetics'},{'Yellow Fingers'})"
   ]
  },
  {
   "cell_type": "code",
   "execution_count": 6,
   "id": "35b22ed9",
   "metadata": {},
   "outputs": [],
   "source": [
    "ordering_test = BR.ordering(BR.bn,all_vars)"
   ]
  },
  {
   "cell_type": "code",
   "execution_count": 7,
   "id": "da8b802b",
   "metadata": {},
   "outputs": [
    {
     "name": "stdout",
     "output_type": "stream",
     "text": [
      "['Car Accident', 'Allergy', 'Fatigue', 'Yellow Fingers', 'Genetics', 'Smoking', 'Stress', 'Attention Disorder', 'Lung Cancer', 'Cough']\n"
     ]
    }
   ],
   "source": [
    "print(ordering_test)"
   ]
  },
  {
   "cell_type": "code",
   "execution_count": 8,
   "id": "461b320b",
   "metadata": {},
   "outputs": [],
   "source": [
    "pruned_network = BR.networkPruning(BR.bn,{'Stress'},{'Fatigue','Car Accident'})"
   ]
  },
  {
   "cell_type": "code",
   "execution_count": 9,
   "id": "060c97bc",
   "metadata": {},
   "outputs": [
    {
     "data": {
      "image/png": "[encoded data removed]",
      "text/plain": [
       "<Figure size 432x288 with 1 Axes>"
      ]
     },
     "metadata": {},
     "output_type": "display_data"
    }
   ],
   "source": [
    "pruned_network.draw_structure()"
   ]
  },
  {
   "cell_type": "code",
   "execution_count": 10,
   "id": "3a1cfe90",
   "metadata": {},
   "outputs": [],
   "source": [
    "ans_cpt = BR.marginalDistributions(BR.bn,{'Yellow Fingers'},{'Stress':True,'Car Accident':True})"
   ]
  },
  {
   "cell_type": "code",
   "execution_count": 11,
   "id": "7861b379",
   "metadata": {},
   "outputs": [
    {
     "name": "stdout",
     "output_type": "stream",
     "text": [
      "   Yellow Fingers         p\n",
      "0           False  1.658379\n",
      "1            True  0.795471\n"
     ]
    }
   ],
   "source": [
    "print(ans_cpt)"
   ]
  },
  {
   "cell_type": "code",
   "execution_count": 19,
   "id": "79f2ad89",
   "metadata": {},
   "outputs": [],
   "source": [
    "cpt_dict, z_dict = BR.MAP(BR.bn,{'Allergy'},{'Stress':True})"
   ]
  },
  {
   "cell_type": "code",
   "execution_count": 21,
   "id": "51d21d55",
   "metadata": {},
   "outputs": [
    {
     "name": "stdout",
     "output_type": "stream",
     "text": [
      "{'Allergy': False}\n"
     ]
    }
   ],
   "source": [
    "print(z_dict)"
   ]
  },
  {
   "cell_type": "code",
   "execution_count": null,
   "id": "33175980",
   "metadata": {},
   "outputs": [],
   "source": []
  }
 ],
 "metadata": {
  "kernelspec": {
   "display_name": "Python 3 (ipykernel)",
   "language": "python",
   "name": "python3"
  },
  "language_info": {
   "codemirror_mode": {
    "name": "ipython",
    "version": 3
   },
   "file_extension": ".py",
   "mimetype": "text/x-python",
   "name": "python",
   "nbconvert_exporter": "python",
   "pygments_lexer": "ipython3",
   "version": "3.8.10"
  }
 },
 "nbformat": 4,
 "nbformat_minor": 5
}
