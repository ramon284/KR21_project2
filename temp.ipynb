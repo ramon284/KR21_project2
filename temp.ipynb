{
 "cells": [
  {
   "cell_type": "code",
   "execution_count": 1,
   "id": "56041a15",
   "metadata": {},
   "outputs": [],
   "source": [
    "from BayesNet import BayesNet"
   ]
  },
  {
   "cell_type": "code",
   "execution_count": 2,
   "id": "548ed43d",
   "metadata": {},
   "outputs": [],
   "source": [
    "bn = BayesNet()\n",
    "bn.load_from_bifxml(str('testing/dog_problem.BIFXML'))"
   ]
  },
  {
   "cell_type": "code",
   "execution_count": 3,
   "id": "18ea1e43",
   "metadata": {},
   "outputs": [],
   "source": [
    "var = bn.get_all_variables()"
   ]
  },
  {
   "cell_type": "code",
   "execution_count": 4,
   "id": "f73e63c9",
   "metadata": {},
   "outputs": [],
   "source": [
    "inter_graph = bn.get_interaction_graph()"
   ]
  },
  {
   "cell_type": "code",
   "execution_count": 5,
   "id": "5e983f35",
   "metadata": {},
   "outputs": [
    {
     "name": "stdout",
     "output_type": "stream",
     "text": [
      "Graph with 5 nodes and 5 edges\n"
     ]
    }
   ],
   "source": [
    "print(inter_graph)"
   ]
  },
  {
   "cell_type": "code",
   "execution_count": 6,
   "id": "4196647e",
   "metadata": {},
   "outputs": [
    {
     "name": "stdout",
     "output_type": "stream",
     "text": [
      "3\n"
     ]
    }
   ],
   "source": [
    "print(len(list(inter_graph.neighbors('dog-out'))))"
   ]
  },
  {
   "cell_type": "code",
   "execution_count": 8,
   "id": "d5365a2b",
   "metadata": {},
   "outputs": [
    {
     "data": {
      "text/plain": [
       "networkx.classes.graph.Graph"
      ]
     },
     "execution_count": 8,
     "metadata": {},
     "output_type": "execute_result"
    }
   ],
   "source": [
    "type(inter_graph)"
   ]
  },
  {
   "cell_type": "code",
   "execution_count": 9,
   "id": "1bc5eb2c",
   "metadata": {},
   "outputs": [
    {
     "name": "stdout",
     "output_type": "stream",
     "text": [
      "['light-on', 'bowel-problem', 'dog-out', 'hear-bark', 'family-out']\n"
     ]
    }
   ],
   "source": [
    "print(inter_graph.nodes)"
   ]
  },
  {
   "cell_type": "code",
   "execution_count": 32,
   "id": "447640ef",
   "metadata": {},
   "outputs": [],
   "source": [
    "from BayesNet import BayesNet\n",
    "from networkx import Graph\n",
    "\n",
    "def sort_min_edges(graph:Graph, node_list:list) -> list:\n",
    "    node_neighbour = {}\n",
    "    for node in node_list:\n",
    "        node_neighbour[node] = len(list(graph.neighbors(node)))\n",
    "\n",
    "    print(node_neighbour) #prototyping\n",
    "    sorted_node_dict = dict(sorted(node_neighbour.items() ,key = lambda item:item[1]))\n",
    "    print(sorted_node_dict) #prototyping\n",
    "    sorted_node_list = list(sorted_node_dict.keys()) \n",
    "    return sorted_node_list"
   ]
  },
  {
   "cell_type": "code",
   "execution_count": 33,
   "id": "31247d5a",
   "metadata": {},
   "outputs": [
    {
     "name": "stdout",
     "output_type": "stream",
     "text": [
      "{'light-on': 1, 'bowel-problem': 2, 'dog-out': 3, 'hear-bark': 1, 'family-out': 3}\n",
      "{'light-on': 1, 'hear-bark': 1, 'bowel-problem': 2, 'dog-out': 3, 'family-out': 3}\n"
     ]
    },
    {
     "data": {
      "text/plain": [
       "['light-on', 'hear-bark', 'bowel-problem', 'dog-out', 'family-out']"
      ]
     },
     "execution_count": 33,
     "metadata": {},
     "output_type": "execute_result"
    }
   ],
   "source": [
    "sort_min_edges(inter_graph,['light-on', 'bowel-problem', 'dog-out', 'hear-bark', 'family-out'])"
   ]
  },
  {
   "cell_type": "code",
   "execution_count": 19,
   "id": "f811d75a",
   "metadata": {},
   "outputs": [
    {
     "name": "stdout",
     "output_type": "stream",
     "text": [
      "1\n",
      "2\n",
      "3\n",
      "1\n",
      "3\n"
     ]
    }
   ],
   "source": [
    "print(len(list(inter_graph.neighbors('light-on'))))\n",
    "print(len(list(inter_graph.neighbors('bowel-problem'))))\n",
    "print(len(list(inter_graph.neighbors('dog-out'))))\n",
    "print(len(list(inter_graph.neighbors('hear-bark'))))\n",
    "print(len(list(inter_graph.neighbors('family-out'))))"
   ]
  },
  {
   "cell_type": "code",
   "execution_count": 53,
   "id": "b1a43c7f",
   "metadata": {},
   "outputs": [],
   "source": [
    "import itertools\n",
    "\n",
    "def sort_min_fill(graph:Graph, node_list:list) -> list:\n",
    "\tunsorted_ne_dict = {}\n",
    "\tfor node in node_list:\n",
    "\t\tneighbours = list(graph.neighbors(node))\n",
    "\t\tcombi_n = itertools.combinations(neighbours,2)\n",
    "\t\tnew_edges=0\n",
    "\t\tfor combi in combi_n:\n",
    "\t\t\tif(not(combi in graph.edges)):\n",
    "\t\t\t\tnew_edges+=1\n",
    "\t\tunsorted_ne_dict[node] = new_edges\n",
    "\n",
    "\tsorted_node_dict = dict(sorted(unsorted_ne_dict.items() ,key = lambda item:item[1]))\n",
    "\tsorted_node_list = list(sorted_node_dict.keys()) \n",
    "\treturn sorted_node_list"
   ]
  },
  {
   "cell_type": "code",
   "execution_count": 54,
   "id": "79672708",
   "metadata": {},
   "outputs": [
    {
     "data": {
      "text/plain": [
       "['light-on', 'bowel-problem', 'hear-bark', 'dog-out', 'family-out']"
      ]
     },
     "execution_count": 54,
     "metadata": {},
     "output_type": "execute_result"
    }
   ],
   "source": [
    "sort_min_fill(inter_graph,['light-on', 'bowel-problem', 'dog-out', 'hear-bark', 'family-out'])"
   ]
  },
  {
   "cell_type": "code",
   "execution_count": 62,
   "id": "124d02c2",
   "metadata": {},
   "outputs": [],
   "source": [
    "import random\n",
    "\n",
    "def random_sort(node_list:list) -> list:\n",
    "\treturn random.sample(node_list, len(node_list))"
   ]
  },
  {
   "cell_type": "code",
   "execution_count": 63,
   "id": "fcc8186a",
   "metadata": {},
   "outputs": [
    {
     "name": "stdout",
     "output_type": "stream",
     "text": [
      "['family-out', 'hear-bark', 'light-on', 'dog-out', 'bowel-problem']\n"
     ]
    }
   ],
   "source": [
    "print(random_sort(['light-on', 'bowel-problem', 'dog-out', 'hear-bark', 'family-out']))"
   ]
  },
  {
   "cell_type": "code",
   "execution_count": 75,
   "id": "a33c4e50",
   "metadata": {},
   "outputs": [
    {
     "name": "stdout",
     "output_type": "stream",
     "text": [
      "['family-out', 'bowel-problem', 'hear-bark']\n",
      "['family-out', 'bowel-problem', 'hear-bark']\n"
     ]
    }
   ],
   "source": [
    "print(list(inter_graph['dog-out']))\n",
    "print(list(inter_graph.neighbors('dog-out')))"
   ]
  },
  {
   "cell_type": "code",
   "execution_count": null,
   "id": "5b138827",
   "metadata": {},
   "outputs": [],
   "source": []
  }
 ],
 "metadata": {
  "kernelspec": {
   "display_name": "Python 3 (ipykernel)",
   "language": "python",
   "name": "python3"
  },
  "language_info": {
   "codemirror_mode": {
    "name": "ipython",
    "version": 3
   },
   "file_extension": ".py",
   "mimetype": "text/x-python",
   "name": "python",
   "nbconvert_exporter": "python",
   "pygments_lexer": "ipython3",
   "version": "3.8.10"
  }
 },
 "nbformat": 4,
 "nbformat_minor": 5
}
