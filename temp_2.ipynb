{
 "cells": [
  {
   "cell_type": "code",
   "execution_count": 1,
   "id": "95f246bd",
   "metadata": {},
   "outputs": [],
   "source": [
    "from BNReasoner import BNReasoner"
   ]
  },
  {
   "cell_type": "code",
   "execution_count": 3,
   "id": "c407ebf6",
   "metadata": {},
   "outputs": [],
   "source": [
    "filePath = 'testing/rand_test.bifxml' ## filepath\n",
    "bnet = BNReasoner(filePath) ## make empty network"
   ]
  },
  {
   "cell_type": "code",
   "execution_count": 7,
   "id": "579999f1",
   "metadata": {},
   "outputs": [
    {
     "name": "stdout",
     "output_type": "stream",
     "text": [
      "['Allergy', 'Lung Cancer', 'Anxiety', 'Smoking', 'Genetics', 'Peer Presure', 'Yellow Fingers', 'Fatigue', 'Car accident', 'Attention Disorder']\n",
      "{'Allergy':    Allergy         p\n",
      "0    False  0.217587\n",
      "1     True  0.782413, 'Lung Cancer':     Genetics  Smoking  Allergy  Lung Cancer         p\n",
      "0      False    False    False        False  0.419518\n",
      "1      False    False    False         True  0.580482\n",
      "2      False    False     True        False  0.438480\n",
      "3      False    False     True         True  0.561520\n",
      "4      False     True    False        False  0.538029\n",
      "5      False     True    False         True  0.461971\n",
      "6      False     True     True        False  0.630706\n",
      "7      False     True     True         True  0.369294\n",
      "8       True    False    False        False  0.813860\n",
      "9       True    False    False         True  0.186140\n",
      "10      True    False     True        False  0.758108\n",
      "11      True    False     True         True  0.241892\n",
      "12      True     True    False        False  0.638692\n",
      "13      True     True    False         True  0.361308\n",
      "14      True     True     True        False  0.493846\n",
      "15      True     True     True         True  0.506154, 'Anxiety':    Anxiety         p\n",
      "0    False  0.832327\n",
      "1     True  0.167673, 'Smoking':    Peer Presure  Anxiety  Smoking         p\n",
      "0         False    False    False  0.516771\n",
      "1         False    False     True  0.483229\n",
      "2         False     True    False  0.913107\n",
      "3         False     True     True  0.086893\n",
      "4          True    False    False  0.484490\n",
      "5          True    False     True  0.515510\n",
      "6          True     True    False  0.355544\n",
      "7          True     True     True  0.644456, 'Genetics':    Genetics         p\n",
      "0     False  0.458873\n",
      "1      True  0.541127, 'Peer Presure':    Peer Presure         p\n",
      "0         False  0.821598\n",
      "1          True  0.178402, 'Yellow Fingers':    Smoking  Yellow Fingers         p\n",
      "0    False           False  0.139012\n",
      "1    False            True  0.860988\n",
      "2     True           False  0.865231\n",
      "3     True            True  0.134769, 'Fatigue':    Allergy  Fatigue         p\n",
      "0    False    False  0.904683\n",
      "1    False     True  0.095317\n",
      "2     True    False  0.527956\n",
      "3     True     True  0.472044, 'Car accident':    Attention Disorder  Fatigue  Car accident         p\n",
      "0               False    False         False  0.729410\n",
      "1               False    False          True  0.270590\n",
      "2               False     True         False  0.438504\n",
      "3               False     True          True  0.561496\n",
      "4                True    False         False  0.259020\n",
      "5                True    False          True  0.740980\n",
      "6                True     True         False  0.590964\n",
      "7                True     True          True  0.409036, 'Attention Disorder':    Genetics  Attention Disorder         p\n",
      "0     False               False  0.397828\n",
      "1     False                True  0.602172\n",
      "2      True               False  0.444236\n",
      "3      True                True  0.555764}\n"
     ]
    }
   ],
   "source": [
    "print(bnet.bn.get_all_variables())\n",
    "print(bnet.bn.get_all_cpts())\n",
    "#x, z, y = {\"light-on\"}, {\"family-out\"}, {\"dog-out\"}\n",
    "#print(bnet.dSeperator(bnet.bn, x,z,y))"
   ]
  },
  {
   "cell_type": "code",
   "execution_count": 9,
   "id": "01733b85",
   "metadata": {},
   "outputs": [
    {
     "data": {
      "image/png": "[encoded data removed]",
      "text/plain": [
       "<Figure size 432x288 with 1 Axes>"
      ]
     },
     "metadata": {},
     "output_type": "display_data"
    }
   ],
   "source": [
    "bnet.bn.draw_structure()"
   ]
  },
  {
   "cell_type": "code",
   "execution_count": null,
   "id": "99795a95",
   "metadata": {},
   "outputs": [],
   "source": [
    "bnet.bn.get_all_variables()"
   ]
  },
  {
   "cell_type": "code",
   "execution_count": null,
   "id": "9ec1103c",
   "metadata": {},
   "outputs": [],
   "source": [
    "evidence = {'dog-out'}\n",
    "query = {'hear-bark'}"
   ]
  },
  {
   "cell_type": "code",
   "execution_count": null,
   "id": "9a00a96a",
   "metadata": {},
   "outputs": [],
   "source": [
    "pruned_network = bnet.networkPruning(bnet.bn,evidence,query)"
   ]
  },
  {
   "cell_type": "code",
   "execution_count": null,
   "id": "71cde9e6",
   "metadata": {},
   "outputs": [],
   "source": [
    "print(bnet.bn.get_all_variables())\n",
    "print(pruned_network.get_all_variables())"
   ]
  },
  {
   "cell_type": "code",
   "execution_count": null,
   "id": "c33dfcaa",
   "metadata": {},
   "outputs": [],
   "source": [
    "type(evidence)"
   ]
  },
  {
   "cell_type": "code",
   "execution_count": null,
   "id": "38fe5f06",
   "metadata": {},
   "outputs": [],
   "source": []
  }
 ],
 "metadata": {
  "kernelspec": {
   "display_name": "Python 3 (ipykernel)",
   "language": "python",
   "name": "python3"
  },
  "language_info": {
   "codemirror_mode": {
    "name": "ipython",
    "version": 3
   },
   "file_extension": ".py",
   "mimetype": "text/x-python",
   "name": "python",
   "nbconvert_exporter": "python",
   "pygments_lexer": "ipython3",
   "version": "3.8.10"
  }
 },
 "nbformat": 4,
 "nbformat_minor": 5
}
